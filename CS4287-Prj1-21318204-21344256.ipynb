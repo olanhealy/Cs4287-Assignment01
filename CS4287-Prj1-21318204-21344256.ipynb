{
 "cells": [
  {
   "cell_type": "code",
   "execution_count": 1,
   "id": "8a03a945-0f7b-40e7-8e13-3108f33bb881",
   "metadata": {},
   "outputs": [],
   "source": [
    "# Olan Healy: 21318204, Kevin Collins 21344256\n",
    "# State here if code executes fully or not: TODO\n",
    "# Link here \" should be a comment with a link to the original source(s)\"\n",
    "     "
   ]
  },
  {
   "cell_type": "markdown",
   "id": "b59197a8",
   "metadata": {},
   "source": [
    "# The Data Set (2 marks)\n",
    "- a. Visualisation of some of the key attributes is necessary for a top grade. Should \n",
    "also consider modelling of correlation using heatmaps.\n",
    "- b. Any pre-processing such as normalisation applied to the data."
   ]
  },
  {
   "cell_type": "code",
   "execution_count": 7,
   "id": "5bdfd254-4efb-405e-91cb-466e836d30b5",
   "metadata": {},
   "outputs": [
    {
     "name": "stdout",
     "output_type": "stream",
     "text": [
      "   ID  Age  Gender              Bedtime          Wakeup time  Sleep duration  \\\n",
      "0   1   65  Female  2021-03-06 01:00:00  2021-03-06 07:00:00             6.0   \n",
      "1   2   69    Male  2021-12-05 02:00:00  2021-12-05 09:00:00             7.0   \n",
      "2   3   40  Female  2021-05-25 21:30:00  2021-05-25 05:30:00             8.0   \n",
      "3   4   40  Female  2021-11-03 02:30:00  2021-11-03 08:30:00             6.0   \n",
      "4   5   57    Male  2021-03-13 01:00:00  2021-03-13 09:00:00             8.0   \n",
      "\n",
      "   Sleep efficiency  REM sleep percentage  Deep sleep percentage  \\\n",
      "0              0.88                    18                     70   \n",
      "1              0.66                    19                     28   \n",
      "2              0.89                    20                     70   \n",
      "3              0.51                    23                     25   \n",
      "4              0.76                    27                     55   \n",
      "\n",
      "   Light sleep percentage  Awakenings  Caffeine consumption  \\\n",
      "0                      12         0.0                   0.0   \n",
      "1                      53         3.0                   0.0   \n",
      "2                      10         1.0                   0.0   \n",
      "3                      52         3.0                  50.0   \n",
      "4                      18         3.0                   0.0   \n",
      "\n",
      "   Alcohol consumption Smoking status  Exercise frequency  \n",
      "0                  0.0            Yes                 3.0  \n",
      "1                  3.0            Yes                 3.0  \n",
      "2                  0.0             No                 3.0  \n",
      "3                  5.0            Yes                 1.0  \n",
      "4                  3.0             No                 3.0  \n",
      "               ID         Age  Sleep duration  Sleep efficiency  \\\n",
      "count  452.000000  452.000000      452.000000        452.000000   \n",
      "mean   226.500000   40.285398        7.465708          0.788916   \n",
      "std    130.625419   13.172250        0.866625          0.135237   \n",
      "min      1.000000    9.000000        5.000000          0.500000   \n",
      "25%    113.750000   29.000000        7.000000          0.697500   \n",
      "50%    226.500000   40.000000        7.500000          0.820000   \n",
      "75%    339.250000   52.000000        8.000000          0.900000   \n",
      "max    452.000000   69.000000       10.000000          0.990000   \n",
      "\n",
      "       REM sleep percentage  Deep sleep percentage  Light sleep percentage  \\\n",
      "count            452.000000             452.000000              452.000000   \n",
      "mean              22.615044              52.823009               24.561947   \n",
      "std                3.525963              15.654235               15.313665   \n",
      "min               15.000000              18.000000                7.000000   \n",
      "25%               20.000000              48.250000               15.000000   \n",
      "50%               22.000000              58.000000               18.000000   \n",
      "75%               25.000000              63.000000               32.500000   \n",
      "max               30.000000              75.000000               63.000000   \n",
      "\n",
      "       Awakenings  Caffeine consumption  Alcohol consumption  \\\n",
      "count  432.000000            427.000000           438.000000   \n",
      "mean     1.641204             23.653396             1.173516   \n",
      "std      1.356762             30.202785             1.621377   \n",
      "min      0.000000              0.000000             0.000000   \n",
      "25%      1.000000              0.000000             0.000000   \n",
      "50%      1.000000             25.000000             0.000000   \n",
      "75%      3.000000             50.000000             2.000000   \n",
      "max      4.000000            200.000000             5.000000   \n",
      "\n",
      "       Exercise frequency  \n",
      "count          446.000000  \n",
      "mean             1.791480  \n",
      "std              1.428134  \n",
      "min              0.000000  \n",
      "25%              0.000000  \n",
      "50%              2.000000  \n",
      "75%              3.000000  \n",
      "max              5.000000  \n"
     ]
    }
   ],
   "source": [
    "import csv\n",
    "import  pandas as pd\n",
    "df = pd.read_csv('Sleep_Efficiency.csv')\n",
    "print(df.head())\n",
    "print(df.describe())\n",
    "\n",
    "\n",
    "# Okay, so we need to define the key attributes, (once ur happy with going with sleep dataset)\n",
    "# Think its good we be interested in it too, probably would be age, caffeine, smoking alcohol really against there sleep efficeny\n"
   ]
  },
  {
   "cell_type": "markdown",
   "id": "454211ab",
   "metadata": {},
   "source": [
    "The network structure and other hyperparameters (1 marks)."
   ]
  },
  {
   "cell_type": "markdown",
   "id": "c0b3add7",
   "metadata": {},
   "source": [
    "The Cost / Loss / Error / Objective function, and the optimiser (1 mark).\n"
   ]
  },
  {
   "cell_type": "markdown",
   "id": "fd85470e",
   "metadata": {},
   "source": [
    "Cross Fold Validation (1 marks).\n",
    "\n"
   ]
  },
  {
   "cell_type": "code",
   "execution_count": null,
   "id": "7e165ab3",
   "metadata": {},
   "outputs": [],
   "source": []
  },
  {
   "cell_type": "markdown",
   "id": "9d3237cc",
   "metadata": {},
   "source": [
    "Results – accuracy and/or precision and/or recall: with plots included (2 mark).\n"
   ]
  },
  {
   "cell_type": "markdown",
   "id": "e30d4e14",
   "metadata": {},
   "source": [
    "Evaluation of the results (1 marks)."
   ]
  },
  {
   "cell_type": "markdown",
   "id": "fe75e621",
   "metadata": {},
   "source": [
    "Impact of varying a hyperparameter(s) (2 marks).\n"
   ]
  }
 ],
 "metadata": {
  "kernelspec": {
   "display_name": "Python 3 (ipykernel)",
   "language": "python",
   "name": "python3"
  },
  "language_info": {
   "codemirror_mode": {
    "name": "ipython",
    "version": 3
   },
   "file_extension": ".py",
   "mimetype": "text/x-python",
   "name": "python",
   "nbconvert_exporter": "python",
   "pygments_lexer": "ipython3",
   "version": "3.8.10"
  }
 },
 "nbformat": 4,
 "nbformat_minor": 5
}
