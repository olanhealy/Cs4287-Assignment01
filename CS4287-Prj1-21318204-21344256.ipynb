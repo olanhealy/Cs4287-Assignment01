{
 "cells": [
  {
   "cell_type": "code",
   "execution_count": null,
   "id": "8a03a945-0f7b-40e7-8e13-3108f33bb881",
   "metadata": {},
   "outputs": [],
   "source": [
    "# Olan Healy: 21318204, Kevin Collins 21344256\n",
    "# State here if code executes fully or not: TODO\n",
    "# Link here \" should be a comment with a link to the original source(s)\"\n",
    "     "
   ]
  },
  {
   "cell_type": "code",
   "execution_count": null,
   "id": "5bdfd254-4efb-405e-91cb-466e836d30b5",
   "metadata": {},
   "outputs": [],
   "source": []
  }
 ],
 "metadata": {
  "kernelspec": {
   "display_name": "Python 3 (ipykernel)",
   "language": "python",
   "name": "python3"
  },
  "language_info": {
   "codemirror_mode": {
    "name": "ipython",
    "version": 3
   },
   "file_extension": ".py",
   "mimetype": "text/x-python",
   "name": "python",
   "nbconvert_exporter": "python",
   "pygments_lexer": "ipython3",
   "version": "3.8.10"
  }
 },
 "nbformat": 4,
 "nbformat_minor": 5
}
